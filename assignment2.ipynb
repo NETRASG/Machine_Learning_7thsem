{
  "nbformat": 4,
  "nbformat_minor": 0,
  "metadata": {
    "colab": {
      "name": "Untitled5.ipynb",
      "provenance": [],
      "authorship_tag": "ABX9TyPNxH49Uvjp7dLT7XR4uTbt"
    },
    "kernelspec": {
      "name": "python3",
      "display_name": "Python 3"
    }
  },
  "cells": [
    {
      "cell_type": "markdown",
      "metadata": {
        "id": "nI-nmUG1WI6R",
        "colab_type": "text"
      },
      "source": [
        "Write a Python program to count the occurrences of each word in a given sentence."
      ]
    },
    {
      "cell_type": "code",
      "metadata": {
        "id": "nhTtJK3SKvmH",
        "colab_type": "code",
        "colab": {
          "base_uri": "https://localhost:8080/",
          "height": 35
        },
        "outputId": "0d5fbc78-b396-4b94-b432-d4a681f7bbde"
      },
      "source": [
        "def word_count(str):\n",
        "    counts = dict()\n",
        "    words = str.split()\n",
        "\n",
        "    for word in words:\n",
        "        if word in counts:\n",
        "            counts[word] += 1\n",
        "        else:\n",
        "            counts[word] = 1\n",
        "\n",
        "    return counts\n",
        "\n",
        "print( word_count('the quick brown fox jumps over the lazy dog.'))"
      ],
      "execution_count": 1,
      "outputs": [
        {
          "output_type": "stream",
          "text": [
            "{'the': 2, 'quick': 1, 'brown': 1, 'fox': 1, 'jumps': 1, 'over': 1, 'lazy': 1, 'dog.': 1}\n"
          ],
          "name": "stdout"
        }
      ]
    },
    {
      "cell_type": "markdown",
      "metadata": {
        "id": "wwrvL4rxWMp_",
        "colab_type": "text"
      },
      "source": [
        "Write a Python program to remove duplicates from a list"
      ]
    },
    {
      "cell_type": "code",
      "metadata": {
        "id": "A0GPaU94TE8s",
        "colab_type": "code",
        "colab": {
          "base_uri": "https://localhost:8080/",
          "height": 52
        },
        "outputId": "47c51486-51bd-4898-a0e5-5a8d728f71a7"
      },
      "source": [
        "a = [10,20,30,20,10,50,60,40,80,50,40]\n",
        "dup_items = set()\n",
        "uniq_items = []\n",
        "for x in a:\n",
        "  if x not in dup_items:\n",
        "\t  uniq_items.append(x)\n",
        "\t  dup_items.add(x)\n",
        "print(dup_items)\n",
        "print(uniq_items)"
      ],
      "execution_count": 5,
      "outputs": [
        {
          "output_type": "stream",
          "text": [
            "{40, 10, 80, 50, 20, 60, 30}\n",
            "[10, 20, 30, 50, 60, 40, 80]\n"
          ],
          "name": "stdout"
        }
      ]
    },
    {
      "cell_type": "markdown",
      "metadata": {
        "id": "Us8nrvtKWfdl",
        "colab_type": "text"
      },
      "source": [
        "Write a Python program to count the number of elements in a list within a specified range."
      ]
    },
    {
      "cell_type": "code",
      "metadata": {
        "id": "rsUt-VOjVNZq",
        "colab_type": "code",
        "colab": {
          "base_uri": "https://localhost:8080/",
          "height": 35
        },
        "outputId": "c7f7d699-888e-445b-cbad-0fde2065c037"
      },
      "source": [
        "def count_range_in_list(li, min, max):\n",
        "\tctr = 0\n",
        "\tfor x in li:\n",
        "\t\tif min <= x <= max:\n",
        "\t\t\tctr += 1\n",
        "\treturn ctr\n",
        "\n",
        "list1 = [10,20,30,40,40,40,70,80,99]\n",
        "print(count_range_in_list(list1, 21, 100))"
      ],
      "execution_count": 7,
      "outputs": [
        {
          "output_type": "stream",
          "text": [
            "7\n"
          ],
          "name": "stdout"
        }
      ]
    },
    {
      "cell_type": "markdown",
      "metadata": {
        "id": "qGuXcAHOWj0Y",
        "colab_type": "text"
      },
      "source": [
        "Write a Python script to merge two Python dictionaries"
      ]
    },
    {
      "cell_type": "code",
      "metadata": {
        "id": "g4D9UV-uV5uE",
        "colab_type": "code",
        "colab": {
          "base_uri": "https://localhost:8080/",
          "height": 35
        },
        "outputId": "ce33f229-e192-4f24-a4d9-93a5765d34a4"
      },
      "source": [
        "d1 = {'a': 100, 'b': 200}\n",
        "d2 = {'x': 300, 'y': 200}\n",
        "d = d1.copy()\n",
        "d.update(d2)\n",
        "print(d)\n"
      ],
      "execution_count": 8,
      "outputs": [
        {
          "output_type": "stream",
          "text": [
            "{'a': 100, 'b': 200, 'x': 300, 'y': 200}\n"
          ],
          "name": "stdout"
        }
      ]
    },
    {
      "cell_type": "markdown",
      "metadata": {
        "id": "q9p7aIuNWqgV",
        "colab_type": "text"
      },
      "source": [
        "5. Write a Python program to find the highest 3 values in a\n",
        "dictionary"
      ]
    },
    {
      "cell_type": "code",
      "metadata": {
        "id": "JayIrzY9Xq7K",
        "colab_type": "code",
        "colab": {
          "base_uri": "https://localhost:8080/",
          "height": 70
        },
        "outputId": "50562936-2672-4d0f-e3b5-f1a51f03217f"
      },
      "source": [
        "from heapq import nlargest\n",
        "my_dict = {'a':500, 'b':5874, 'c': 560,'d':400, 'e':5874, 'f': 20}  \n",
        "ThreeHighest = nlargest(3, my_dict, key=my_dict.get)\n",
        "for val in ThreeHighest: \n",
        "    print(val, \":\", my_dict.get(val)) "
      ],
      "execution_count": 10,
      "outputs": [
        {
          "output_type": "stream",
          "text": [
            "b : 5874\n",
            "e : 5874\n",
            "c : 560\n"
          ],
          "name": "stdout"
        }
      ]
    }
  ]
}